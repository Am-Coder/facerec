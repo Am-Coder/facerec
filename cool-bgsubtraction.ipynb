{
 "cells": [
  {
   "cell_type": "code",
   "execution_count": 32,
   "metadata": {},
   "outputs": [],
   "source": [
    "import cv2\n",
    "import numpy as np\n",
    "import pandas as pd\n",
    "import tensorflow as tf\n",
    "\n",
    "face_cascade = cv2.CascadeClassifier('haar_cascade/haarcascade_frontalface_default.xml')\n",
    "# face_cascade = cv2.CascadeClassifier('haar_cascade/haarcascade_upperbody.xml')\n",
    "\n",
    "# eye_cascade = cv2.CascadeClassifier('haar_cascade/haarcascade_eye.xml')\n",
    "# eye_cascade = cv2.CascadeClassifier('haar_cascade/haarcascade_eye.xml')\n",
    "\n",
    "eye_cascade = cv2.CascadeClassifier('haar_cascade/haarcascade_eye_tree_eyeglasses.xml')"
   ]
  },
  {
   "cell_type": "code",
   "execution_count": 36,
   "metadata": {},
   "outputs": [],
   "source": [
    "cap = cv2.VideoCapture(0)\n",
    "kernel = cv2.getStructuringElement(cv2.MORPH_ELLIPSE,(3,3))\n",
    "fgbg = cv2.createBackgroundSubtractorMOG2()\n",
    "while cap.isOpened():\n",
    "   \n",
    "    ret,frame = cap.read()\n",
    "    if ret is True:\n",
    "        gray = cv2.cvtColor(frame,cv2.COLOR_BGR2GRAY)\n",
    "    else:\n",
    "        break\n",
    "    faces=face_cascade.detectMultiScale(gray,1.3,5)\n",
    "    for (x,y,w,h) in faces:\n",
    "        frame = cv2.rectangle(frame,(x,y),(x+w,y+h),(255,0,0),2)\n",
    "        eye_det =frame[y:y+h,x:x+w] \n",
    "        eye_gray=gray[y:y+h,x:x+w]\n",
    "        eyes = eye_cascade.detectMultiScale(eye_gray)\n",
    "        for (ex,ey,ew,eh) in eyes:\n",
    "            cv2.rectangle(eye_det,(ex,ey),(ex+ew,ey+eh),(0,255,0),2)\n",
    "    fgmask = fgbg.apply(frame)\n",
    "    fgmask = cv2.morphologyEx(fgmask, cv2.MORPH_OPEN, kernel)\n",
    "    \n",
    "    cv2.imshow('frame',fgmask)\n",
    "    if cv2.waitKey(20) & 0xFF == ord('q'):\n",
    "        break\n",
    "cap.release()\n",
    "cv2.destroyAllWindows()"
   ]
  },
  {
   "cell_type": "code",
   "execution_count": null,
   "metadata": {},
   "outputs": [],
   "source": []
  }
 ],
 "metadata": {
  "kernelspec": {
   "display_name": "Python 3",
   "language": "python",
   "name": "python3"
  },
  "language_info": {
   "codemirror_mode": {
    "name": "ipython",
    "version": 3
   },
   "file_extension": ".py",
   "mimetype": "text/x-python",
   "name": "python",
   "nbconvert_exporter": "python",
   "pygments_lexer": "ipython3",
   "version": "3.5.6"
  }
 },
 "nbformat": 4,
 "nbformat_minor": 2
}
