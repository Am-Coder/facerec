{
 "cells": [
  {
   "cell_type": "code",
   "execution_count": 12,
   "metadata": {},
   "outputs": [],
   "source": [
    "import numpy as np\n",
    "import cv2\n",
    "from PIL import Image\n",
    "import os\n",
    "import pickle\n"
   ]
  },
  {
   "cell_type": "code",
   "execution_count": null,
   "metadata": {},
   "outputs": [],
   "source": []
  },
  {
   "cell_type": "code",
   "execution_count": 13,
   "metadata": {},
   "outputs": [],
   "source": [
    "base_dir = os.path.dirname(os.path.abspath('frec.ipynb'))\n",
    "img_dir = os.path.join(base_dir,\"images\")\n",
    "# print(img_dir)\n",
    "face_cascade = cv2.CascadeClassifier(\"haar_cascade/haarcascade_frontalface_default.xml\")\n",
    "recognizer = cv2.face.LBPHFaceRecognizer_create()\n",
    "\n",
    "\n",
    "label_id = {}\n",
    "x_train = []\n",
    "y_train = []\n",
    "id=0\n",
    "\n",
    "for root,dirs,files in  os.walk(img_dir):\n",
    "#     print(root)\n",
    "    for file in files:\n",
    "        if file.endswith(\".jpg\") or file.endswith(\".png\"):\n",
    "            path = os.path.join(root,file)\n",
    "            name = os.path.basename(root)\n",
    "            \n",
    "            if not name in label_id:\n",
    "                label_id[name]=id\n",
    "                id+=1\n",
    "            id_ = label_id[name]\n",
    "            \n",
    "            \n",
    "            pil_img = Image.open(path).convert('L')#gray scale\n",
    "            size = (550, 550)\n",
    "            final_image = pil_img.resize(size, Image.ANTIALIAS)\n",
    "            arr_img = np.array(final_image,'uint8')#uint8 default for open cv\n",
    "            faces = face_cascade.detectMultiScale(arr_img,1.5,5)\n",
    "            \n",
    "            for (x,y,w,h) in faces:\n",
    "                roi_img = arr_img[y:y+h,x:x+w]\n",
    "                x_train.append(roi_img)\n",
    "                y_train.append(id_)\n",
    "                \n",
    "                \n",
    "with open(\"frec_labels.pickle\",\"wb\") as f: \n",
    "    pickle.dump(label_id,f)\n",
    "# print(len(y_train),len(x_train))\n",
    "recognizer.train(x_train,np.array(y_train))\n",
    "recognizer.save(\"trainer.yml\")\n"
   ]
  },
  {
   "cell_type": "code",
   "execution_count": null,
   "metadata": {},
   "outputs": [],
   "source": []
  },
  {
   "cell_type": "code",
   "execution_count": null,
   "metadata": {},
   "outputs": [],
   "source": []
  },
  {
   "cell_type": "code",
   "execution_count": null,
   "metadata": {},
   "outputs": [],
   "source": []
  }
 ],
 "metadata": {
  "kernelspec": {
   "display_name": "Python 3",
   "language": "python",
   "name": "python3"
  },
  "language_info": {
   "codemirror_mode": {
    "name": "ipython",
    "version": 3
   },
   "file_extension": ".py",
   "mimetype": "text/x-python",
   "name": "python",
   "nbconvert_exporter": "python",
   "pygments_lexer": "ipython3",
   "version": "3.5.6"
  }
 },
 "nbformat": 4,
 "nbformat_minor": 2
}
