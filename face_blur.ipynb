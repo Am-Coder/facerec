{
 "cells": [
  {
   "cell_type": "code",
   "execution_count": 1,
   "metadata": {},
   "outputs": [],
   "source": [
    "import numpy as np\n",
    "import cv2\n",
    "import pickle\n"
   ]
  },
  {
   "cell_type": "code",
   "execution_count": 2,
   "metadata": {},
   "outputs": [
    {
     "name": "stdout",
     "output_type": "stream",
     "text": [
      "{0: 'Aman', 1: 'Shravan'}\n"
     ]
    }
   ],
   "source": [
    "face_cascade = cv2.CascadeClassifier('haar_cascade/haarcascade_frontalface_default.xml')\n",
    "recognizer = cv2.face.LBPHFaceRecognizer_create()\n",
    "recognizer.read(\"trainer.yml\")\n",
    "\n",
    "\n",
    "labels = {}\n",
    "with open(\"frec_labels.pickle\", 'rb') as f:\n",
    "    og_labels = pickle.load(f)\n",
    "    labels = {v:k for k,v in og_labels.items()}\n",
    "print(labels)"
   ]
  },
  {
   "cell_type": "code",
   "execution_count": 12,
   "metadata": {},
   "outputs": [],
   "source": [
    "cap = cv2.VideoCapture(0)\n",
    "\n",
    "while cap.isOpened():\n",
    "    ret,frame = cap.read()\n",
    "    if ret is True:\n",
    "        gray = cv2.cvtColor(frame,cv2.COLOR_BGR2GRAY)\n",
    "    else:\n",
    "        break\n",
    "    faces = face_cascade.detectMultiScale(gray,1.5,5)\n",
    "    for (x,y,w,h) in faces:\n",
    "        roi_color = frame[y:y+h,x:x+w]\n",
    "        roi_gray = gray[y:y+h,x:x+w]\n",
    "        sub = cv2.GaussianBlur(roi_color,(23,23),30)\n",
    "\n",
    "        id_,conf = recognizer.predict(roi_gray)\n",
    "#         cv2.GaussianBlur(frame,(23,23),30)\n",
    "        if conf>15 and conf<90:\n",
    "            name = labels[id_]\n",
    "            font = cv2.FONT_HERSHEY_SIMPLEX\n",
    "            cv2.putText(frame,name,(x,y),font,1,(255,0,0),1,cv2.LINE_AA)\n",
    "            frame[y:y+h,x:x+w] = sub\n",
    "        cv2.rectangle(frame, (x, y), (x+w, y+h), (255,0,0),1)\n",
    "        \n",
    "#         cv2.GaussianBlur(roi_color,(23,23),30)\n",
    "#         cv2.blur(frame,(300,300))\n",
    "    cv2.imshow('frame',frame)\n",
    "    if cv2.waitKey(20) & 0xFF == ord('q'):\n",
    "        break\n",
    "cap.release()\n",
    "cv2.destroyAllWindows()\n",
    "\n",
    "    \n",
    "    \n",
    "    "
   ]
  },
  {
   "cell_type": "code",
   "execution_count": null,
   "metadata": {},
   "outputs": [],
   "source": []
  },
  {
   "cell_type": "code",
   "execution_count": null,
   "metadata": {},
   "outputs": [],
   "source": []
  }
 ],
 "metadata": {
  "kernelspec": {
   "display_name": "Python 3",
   "language": "python",
   "name": "python3"
  },
  "language_info": {
   "codemirror_mode": {
    "name": "ipython",
    "version": 3
   },
   "file_extension": ".py",
   "mimetype": "text/x-python",
   "name": "python",
   "nbconvert_exporter": "python",
   "pygments_lexer": "ipython3",
   "version": "3.5.6"
  }
 },
 "nbformat": 4,
 "nbformat_minor": 2
}
